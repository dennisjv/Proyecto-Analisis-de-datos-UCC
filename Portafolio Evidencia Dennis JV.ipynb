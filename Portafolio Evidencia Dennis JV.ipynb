{
 "cells": [
  {
   "cell_type": "markdown",
   "id": "8af94311",
   "metadata": {},
   "source": [
    "<p Style= 'text-align: right ; font-weight:bold''> 02 Junio 2023 </p>"
   ]
  },
  {
   "cell_type": "markdown",
   "id": "01157070",
   "metadata": {},
   "source": [
    "<center><img  src=\"corvette_1962v3.jpg\" ></center> "
   ]
  },
  {
   "cell_type": "markdown",
   "id": "70256992",
   "metadata": {},
   "source": [
    "<h1 Style= 'text-align: center'> Portafolio de Evidencias </h1>\n",
    "<h2 Style= 'text-align: center'> Por: Dennis Jimenez Vargas </h2>\n",
    "<h2 Style='color:#98173d;text-align: center'>Universidad Castro Carazo </h2> \n",
    "<h3 Style= 'text-align: center'> Analisis de datos </h3>\n",
    "<h4 Style='Color:#25232d;text-align: center'> 2C - 2023 </h4> "
   ]
  },
  {
   "cell_type": "markdown",
   "id": "b46fd8e5",
   "metadata": {},
   "source": [
    "\n",
    "</br> \n",
    "\n",
    "<p Style = \"text-align: justify\">Este documento de Jupyter contiene el analisis de los datos del portafolio de evidencias para el curso Analisis de Datos </p> \n",
    "\n",
    " \n",
    "\n",
    "<p Style = \"text-align: left; font-weight: bold; color: #08295e\" > ¿Pregunta de la investigacion?</p> \n",
    "<p Style = \"text-align: justify\"> Justificacion de la investigacion.</p> \n",
    "\n",
    "</br> \n",
    "\n",
    "\n",
    "<table> \n",
    "\n",
    "<tr> \n",
    "\n",
    "<td> <img src=\"admira2757.jpg\" alt=\"Enlace para consulta\"/></td> \n",
    "\n",
    "<td Style='text-align: justify; font-style: normal; font-weight: normal'><a href=\"https://archive.ics.uci.edu/ml/datasets/Automobile\">Fuente de datos para la realizacion del proyecto</a></td> \n",
    "\n",
    "<td Style='text-align: justify; font-style: normal; font-weight: normal'> Enlace para el repositorio donde se encuentra el Dataset para trabajar durante el cuatrimestre </td> \n",
    "\n",
    "</tr> \n",
    "\n",
    "</table> "
   ]
  },
  {
   "cell_type": "code",
   "execution_count": null,
   "id": "bc695e86",
   "metadata": {},
   "outputs": [],
   "source": []
  },
  {
   "cell_type": "code",
   "execution_count": null,
   "id": "ea5ab690",
   "metadata": {},
   "outputs": [],
   "source": []
  }
 ],
 "metadata": {
  "kernelspec": {
   "display_name": "Python 3 (ipykernel)",
   "language": "python",
   "name": "python3"
  },
  "language_info": {
   "codemirror_mode": {
    "name": "ipython",
    "version": 3
   },
   "file_extension": ".py",
   "mimetype": "text/x-python",
   "name": "python",
   "nbconvert_exporter": "python",
   "pygments_lexer": "ipython3",
   "version": "3.10.9"
  }
 },
 "nbformat": 4,
 "nbformat_minor": 5
}
